{
 "cells": [
  {
   "cell_type": "code",
   "execution_count": 3,
   "id": "91cf80a1",
   "metadata": {},
   "outputs": [],
   "source": [
    "#Midterm 2\n",
    "#Devin Fan 918042189\n",
    "from scipy.optimize import fsolve\n",
    "import numpy as np"
   ]
  },
  {
   "cell_type": "code",
   "execution_count": 12,
   "id": "7fb9bdda",
   "metadata": {},
   "outputs": [
    {
     "name": "stdout",
     "output_type": "stream",
     "text": [
      "Equalirbium Constant for Reaction 1: 0.9833892357446867\n",
      "Equalirbium Constant for Reaction 2: 0.9692817937468371\n"
     ]
    }
   ],
   "source": [
    "#Part b\n",
    "sum_G_I = 88.7 + 39 - 99.2 + 13\n",
    "sum_G_II = 153 - 88.7 + 13\n",
    "R = 8.314\n",
    "T = 298\n",
    "\n",
    "def equilibrium_equation(delta_G, K):\n",
    "    return np.exp(-delta_G / (R * T)) - K\n",
    "\n",
    "K1_I = fsolve(equilibrium_equation, 1.0, args=(np.exp(sum_G_I / (R * T)),))\n",
    "print(\"Equilibrium Constant for Reaction 1:\", K1_I[0])\n",
    "\n",
    "K1_II = fsolve(equilibrium_equation, 1.0, args=(np.exp(sum_G_II / (R * T)),))\n",
    "print(\"Equilibrium Constant for Reaction 2:\", K1_II[0])"
   ]
  },
  {
   "cell_type": "code",
   "execution_count": 30,
   "id": "f6c373d4",
   "metadata": {},
   "outputs": [
    {
     "name": "stdout",
     "output_type": "stream",
     "text": [
      "Equalibrium Constant at 350 K for reaction 1: 0.9755188586427198\n",
      "Equalibrium Constant at 350 K for reaction 2: 0.958588191272689\n"
     ]
    }
   ],
   "source": [
    "#Part c\n",
    "K1_I = 0.9833892357446867\n",
    "K1_II = 0.9692817937468371\n",
    "deltaH_1 = -134\n",
    "deltaH_2 = -185\n",
    "R = 8.314  \n",
    "T1 = 298  \n",
    "T2 = 350  \n",
    "\n",
    "def equation_K2_I(K2_I):\n",
    "    return K1_I - K2_I * np.exp((deltaH_1 / R) * (1 / T2 - 1 / T1))\n",
    "\n",
    "def equation_K2_II(K2_II):\n",
    "    return K1_II - K2_II * np.exp((deltaH_2 / R) * (1 / T2 - 1 / T1))\n",
    "\n",
    "# Solve for K2_I using fsolve\n",
    "solution_K2_I = fsolve(equation_K2_I, 1.0)\n",
    "K2_I = solution_K2_I[0]\n",
    "\n",
    "# Solve for K2_II using fsolve\n",
    "solution_K2_II = fsolve(equation_K2_II, 1.0)\n",
    "K2_II = solution_K2_II[0]\n",
    "\n",
    "print(\"Equalibrium Constant at 350 K for reaction 1:\", K2_I)\n",
    "print(\"Equalibrium Constant at 350 K for reaction 2:\", K2_II)"
   ]
  }
 ],
 "metadata": {
  "kernelspec": {
   "display_name": "Python 3 (ipykernel)",
   "language": "python",
   "name": "python3"
  },
  "language_info": {
   "codemirror_mode": {
    "name": "ipython",
    "version": 3
   },
   "file_extension": ".py",
   "mimetype": "text/x-python",
   "name": "python",
   "nbconvert_exporter": "python",
   "pygments_lexer": "ipython3",
   "version": "3.9.7"
  }
 },
 "nbformat": 4,
 "nbformat_minor": 5
}
